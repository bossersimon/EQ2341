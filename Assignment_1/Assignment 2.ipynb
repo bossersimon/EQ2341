{
 "cells": [
  {
   "cell_type": "markdown",
   "id": "8818cdd7",
   "metadata": {},
   "source": [
    "## Assignment 2"
   ]
  },
  {
   "cell_type": "code",
   "execution_count": 2,
   "id": "8fd75767",
   "metadata": {},
   "outputs": [],
   "source": [
    "from PattRecClasses import DiscreteD, GaussD, HMM, MarkovChain\n",
    "from matplotlib import pyplot as plt\n",
    "\n",
    "\n",
    "import numpy as np\n",
    "from scipy import stats"
   ]
  },
  {
   "cell_type": "code",
   "execution_count": 3,
   "id": "b7b7bd8d",
   "metadata": {},
   "outputs": [
    {
     "name": "stdout",
     "output_type": "stream",
     "text": [
      "[[0.8757894  0.06495786 0.55215885]\n",
      " [0.1242106  0.93504214 0.44784115]]\n",
      "alfaHat = [[1.         0.38470424 0.41887466]\n",
      " [0.         0.61529576 0.58112534]]\n",
      "c = [0.8757894  0.15196629 0.45640399]\n"
     ]
    }
   ],
   "source": [
    "mc = MarkovChain( np.array( [ 1, 0 ] ), np.array( [ [ 0.9, 0.1, 0 ], [ 0, 0.9, 0.1 ] ] ) ) \n",
    "\n",
    "b1 = GaussD( means=[0], stdevs=[1] )   # Distribution for state = 1\n",
    "b2 = GaussD( means=[3], stdevs=[2] )   # Distribution for state = 2\n",
    "\n",
    "x_obs = (-0.2, 2.6, 1.3)\n",
    "pX = np.array([b1.prob(x_obs), b2.prob(x_obs)])\n",
    "print(pX/sum(pX))\n",
    "\n",
    "[alfaHat, c] = mc.forward(pX/sum(pX))\n",
    "\n",
    "print(f\"alfaHat = {alfaHat}\")\n",
    "print(f\"c = {c}\")\n"
   ]
  },
  {
   "cell_type": "code",
   "execution_count": 4,
   "id": "5b117122",
   "metadata": {},
   "outputs": [
    {
     "name": "stdout",
     "output_type": "stream",
     "text": [
      "-2.728714016312506\n"
     ]
    }
   ],
   "source": [
    "mc = MarkovChain( np.array( [ 1, 0 ] ), np.array( [ [ 0.9, 0.1, 0 ], [ 0, 0.9, 0.1 ] ] ) ) \n",
    "g1 = GaussD( means=[0], stdevs=[1] )   # Distribution for state = 1\n",
    "g2 = GaussD( means=[2], stdevs=[3] )   # Distribution for state = 2\n",
    "\n",
    "x_obs = (-0.2, 2.6, 1.3)\n",
    "h  = HMM( mc, [g1, g2])\n",
    "\n",
    "c = h.logprob(x_obs)\n",
    "print(c)\n",
    "\n"
   ]
  }
 ],
 "metadata": {
  "kernelspec": {
   "display_name": "Python 3 (ipykernel)",
   "language": "python",
   "name": "python3"
  },
  "language_info": {
   "codemirror_mode": {
    "name": "ipython",
    "version": 3
   },
   "file_extension": ".py",
   "mimetype": "text/x-python",
   "name": "python",
   "nbconvert_exporter": "python",
   "pygments_lexer": "ipython3",
   "version": "3.10.9"
  }
 },
 "nbformat": 4,
 "nbformat_minor": 5
}
