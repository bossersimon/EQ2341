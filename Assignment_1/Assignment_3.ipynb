{
 "cells": [
  {
   "cell_type": "markdown",
   "id": "b7c4f905",
   "metadata": {},
   "source": [
    "## Assigmnent 3"
   ]
  },
  {
   "cell_type": "code",
   "execution_count": 1,
   "id": "e859ca5d",
   "metadata": {},
   "outputs": [],
   "source": [
    "from PattRecClasses import DiscreteD, GaussD, HMM, MarkovChain\n",
    "from matplotlib import pyplot as plt\n",
    "\n",
    "import os\n",
    "import numpy as np"
   ]
  },
  {
   "cell_type": "code",
   "execution_count": 1,
   "id": "4546dd3a",
   "metadata": {},
   "outputs": [],
   "source": [
    "#https://www.kaggle.com/datasets/avk256/activity-recognition"
   ]
  },
  {
   "cell_type": "markdown",
   "id": "5868d116",
   "metadata": {},
   "source": [
    "### Feature extraction"
   ]
  },
  {
   "cell_type": "code",
   "execution_count": 3,
   "id": "12fc38c6",
   "metadata": {},
   "outputs": [
    {
     "name": "stderr",
     "output_type": "stream",
     "text": [
      "qt.glx: qglx_findConfig: Failed to finding matching FBConfig for QSurfaceFormat(version 2.0, options QFlags<QSurfaceFormat::FormatOption>(), depthBufferSize -1, redBufferSize 1, greenBufferSize 1, blueBufferSize 1, alphaBufferSize -1, stencilBufferSize -1, samples -1, swapBehavior QSurfaceFormat::SingleBuffer, swapInterval 1, colorSpace QSurfaceFormat::DefaultColorSpace, profile  QSurfaceFormat::NoProfile)\n",
      "No XVisualInfo for format QSurfaceFormat(version 2.0, options QFlags<QSurfaceFormat::FormatOption>(), depthBufferSize -1, redBufferSize 1, greenBufferSize 1, blueBufferSize 1, alphaBufferSize -1, stencilBufferSize -1, samples -1, swapBehavior QSurfaceFormat::SingleBuffer, swapInterval 1, colorSpace QSurfaceFormat::DefaultColorSpace, profile  QSurfaceFormat::NoProfile)\n",
      "Falling back to using screens root_visual.\n"
     ]
    },
    {
     "data": {
      "text/plain": [
       "[<matplotlib.lines.Line2D at 0x7fffa1b51300>]"
      ]
     },
     "execution_count": 3,
     "metadata": {},
     "output_type": "execute_result"
    },
    {
     "name": "stderr",
     "output_type": "stream",
     "text": [
      "\n",
      "** (python3.10:6849): WARNING **: 13:53:47.312: atk-bridge: get_device_events_reply: unknown signature\n"
     ]
    }
   ],
   "source": [
    "\n",
    "acc = []\n",
    "tau = [] # sample index for first sample in each recording\n",
    "\n",
    "for filename in os.listdir('sensorlogger'):\n",
    "    path = os.path.join('sensorlogger',filename)\n",
    "    with open(path) as file:        \n",
    "        if os.path.isfile(path):\n",
    "            lines = [line.split() for line in file]\n",
    "            # abs of norm of acceleration - gravity\n",
    "            acc.extend([ np.abs((np.sqrt(float(line[2])**2 + float(line[3])**2 + float(line[4])**2))-9.82) for line in lines ])\n",
    "            tau.append(len(acc)+1)\n",
    "        \n",
    "        \n",
    "#t = [(float(line[0])-float(lines[0][0]))/1000 for line in lines]\n",
    "\n",
    "%matplotlib qt\n",
    "plt.figure(figsize= (15,10))\n",
    "plt.subplot(311)\n",
    "plt.plot(acc)\n",
    "\n"
   ]
  },
  {
   "cell_type": "code",
   "execution_count": 12,
   "id": "954046a1",
   "metadata": {},
   "outputs": [
    {
     "name": "stderr",
     "output_type": "stream",
     "text": [
      "qt.glx: qglx_findConfig: Failed to finding matching FBConfig for QSurfaceFormat(version 2.0, options QFlags<QSurfaceFormat::FormatOption>(), depthBufferSize -1, redBufferSize 1, greenBufferSize 1, blueBufferSize 1, alphaBufferSize -1, stencilBufferSize -1, samples -1, swapBehavior QSurfaceFormat::SingleBuffer, swapInterval 1, colorSpace QSurfaceFormat::DefaultColorSpace, profile  QSurfaceFormat::NoProfile)\n",
      "No XVisualInfo for format QSurfaceFormat(version 2.0, options QFlags<QSurfaceFormat::FormatOption>(), depthBufferSize -1, redBufferSize 1, greenBufferSize 1, blueBufferSize 1, alphaBufferSize -1, stencilBufferSize -1, samples -1, swapBehavior QSurfaceFormat::SingleBuffer, swapInterval 1, colorSpace QSurfaceFormat::DefaultColorSpace, profile  QSurfaceFormat::NoProfile)\n",
      "Falling back to using screens root_visual.\n"
     ]
    }
   ],
   "source": [
    "\"\"\"Windowing\"\"\"\n",
    "wLen = 100 # window length (samples)\n",
    "overlap = 0 # is higher resolution needed?\n",
    "windows = []\n",
    "\n",
    "step = wLen-overlap\n",
    "\n",
    "X = []\n",
    "for n in range(0,len(acc)-wLen +1,step):\n",
    "    X.append(sum(acc[n:n+wLen])/wLen)\n",
    "    windows.extend([sum(acc[n:n+wLen])/wLen]*wLen)\n",
    "    \n",
    "\"\"\"Labels\"\"\"\n",
    "S = []\n",
    "\n",
    "\"\"\"Cluster training data into N separate categories, for estimation of output probabilities\"\"\"\n",
    "data1 = []\n",
    "data2 = []\n",
    "data3 = []\n",
    "\n",
    "for a in X:\n",
    "    if a > 3.5:\n",
    "        S.append(3) #running\n",
    "        data1.append(a)\n",
    "    elif a > 0.6:\n",
    "        S.append(2)  #walking\n",
    "        data2.append(a)\n",
    "    else:\n",
    "        S.append(1)  #standing\n",
    "        data3.append(a)\n",
    "\n",
    "colors = {1: 'red', 2: 'green', 3: 'blue'}\n",
    "\n",
    "plt.subplot(312)\n",
    "plt.plot(windows)\n",
    "\n",
    "plt.subplot(313)\n",
    "plt.plot([t2 for t2 in range(0, len(acc), wLen)][:-1], X)\n",
    "for i, val in enumerate(S):\n",
    "    plt.scatter(i*wLen, val, color = colors[val])\n",
    "\n",
    "plt.show()\n"
   ]
  },
  {
   "cell_type": "code",
   "execution_count": 5,
   "id": "a41589cb",
   "metadata": {},
   "outputs": [],
   "source": [
    "\"\"\"Extracting data to csv\"\"\"\n",
    "\n",
    "datapoints = np.array([X,S]).T\n",
    "\n",
    "import csv\n",
    "\n",
    "with open('features.csv', 'w') as csvfile:\n",
    "    Writer = csv.writer(csvfile)\n",
    "    Writer.writerow(tau)\n",
    "    for data in datapoints:\n",
    "        Writer.writerow(data)\n",
    "\n"
   ]
  },
  {
   "cell_type": "code",
   "execution_count": 16,
   "id": "acb9b4f0",
   "metadata": {},
   "outputs": [
    {
     "name": "stdout",
     "output_type": "stream",
     "text": [
      "5.945451797660629 0.9650501323041633\n",
      "1.7236981774924978 0.4553284434081767\n",
      "0.20466219393869484 0.1085833637535468\n"
     ]
    },
    {
     "data": {
      "text/plain": [
       "'Initial HMM'"
      ]
     },
     "execution_count": 16,
     "metadata": {},
     "output_type": "execute_result"
    }
   ],
   "source": [
    "\"\"\"Initialization\"\"\"\n",
    "\n",
    "\"\"\"Infinite ergodic HMM may start in any state. Assumption here is that\n",
    "    each state is equally likely to occur as initial state\"\"\"\n",
    "\n",
    "mc = MarkovChain( np.full( (1,3),1/3 ) , np.array( [ [ 0.9, 0.1, 0 ], \n",
    "                                                  [ 0.05, 0.9, 0.05 ], \n",
    "                                                  [ 0, 0.05 ,0.9] ] ) )\n",
    "\n",
    "\"\"\"The diagonal elements of the transition matrix can be chosen to indicate \n",
    "    approximately the average state durations. Here I assume that each state duration is equally long\"\"\"\n",
    "\n",
    "\n",
    "\"\"\"Output probability distributions must be initialized differently for each state\"\"\"\n",
    "# Maybe do this with separate data?\n",
    "\n",
    "from scipy.stats import norm\n",
    "        \n",
    "mu1, std1 = norm.fit(data1)\n",
    "mu2, std2 = norm.fit(data2)\n",
    "mu3, std3 = norm.fit(data3)\n",
    "\n",
    "\n",
    "\"\"\" Looks reasonable\n",
    "print(mu1,std1)\n",
    "print(mu2,std2)\n",
    "print(mu3,std3)\n",
    "\"\"\"\n",
    "\n",
    "b1 = GaussD( means=[mu1], stdevs=[std1] )   # Distribution for state = standing\n",
    "b2 = GaussD( means=[mu2], stdevs=[std2] )   # Distribution for state = walking\n",
    "b3 = GaussD( means=[mu3], stdevs=[std3] )   # Distribution for state = running\n",
    "\n",
    "\"\"\"Initial HMM\"\"\"\n",
    "\n",
    "#h0  = HMM( mc, [g1, g2])"
   ]
  },
  {
   "cell_type": "markdown",
   "id": "1554fe4a",
   "metadata": {},
   "source": [
    "### Training"
   ]
  },
  {
   "cell_type": "code",
   "execution_count": null,
   "id": "cac37dc3",
   "metadata": {},
   "outputs": [],
   "source": [
    "\"\"\"Updating initial probability vector\"\"\"\n",
    "\n",
    "x_obs = (-0.2, 2.6, 1.3)\n",
    "pX = np.array([b1.prob(x_obs), b2.prob(x_obs)])\n",
    "sf = [np.max(p) for p in pX.T]\n",
    "pX = pX/sf\n",
    "    \n",
    "[alfaHat, c] = mc.forward(pX)\n",
    "\n",
    "betaHat = mc.backward(pX, c)\n"
   ]
  }
 ],
 "metadata": {
  "kernelspec": {
   "display_name": "Python 3 (ipykernel)",
   "language": "python",
   "name": "python3"
  },
  "language_info": {
   "codemirror_mode": {
    "name": "ipython",
    "version": 3
   },
   "file_extension": ".py",
   "mimetype": "text/x-python",
   "name": "python",
   "nbconvert_exporter": "python",
   "pygments_lexer": "ipython3",
   "version": "3.10.9"
  }
 },
 "nbformat": 4,
 "nbformat_minor": 5
}
