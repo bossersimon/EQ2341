{
 "cells": [
  {
   "cell_type": "markdown",
   "id": "b7c4f905",
   "metadata": {},
   "source": [
    "## Assigmnent 3"
   ]
  },
  {
   "cell_type": "code",
   "execution_count": 1,
   "id": "4546dd3a",
   "metadata": {},
   "outputs": [],
   "source": [
    "#https://www.kaggle.com/datasets/avk256/activity-recognition"
   ]
  },
  {
   "cell_type": "code",
   "execution_count": 2,
   "id": "ad7dfa56",
   "metadata": {},
   "outputs": [
    {
     "data": {
      "text/plain": [
       "\"\\nimport os\\n\\nfor filename in os.listdir('sensorlogger'):\\n    f = os.path.join('sensorlogger', filename)\\n    \\n    if os.path.isfile(f):\\n   \""
      ]
     },
     "execution_count": 2,
     "metadata": {},
     "output_type": "execute_result"
    }
   ],
   "source": [
    "\n",
    "\"\"\"\n",
    "import os\n",
    "\n",
    "for filename in os.listdir('sensorlogger'):\n",
    "    f = os.path.join('sensorlogger', filename)\n",
    "    \n",
    "    if os.path.isfile(f):\n",
    "   \"\"\"     \n",
    "\n"
   ]
  },
  {
   "cell_type": "code",
   "execution_count": 29,
   "id": "12fc38c6",
   "metadata": {},
   "outputs": [
    {
     "name": "stderr",
     "output_type": "stream",
     "text": [
      "qt.glx: qglx_findConfig: Failed to finding matching FBConfig for QSurfaceFormat(version 2.0, options QFlags<QSurfaceFormat::FormatOption>(), depthBufferSize -1, redBufferSize 1, greenBufferSize 1, blueBufferSize 1, alphaBufferSize -1, stencilBufferSize -1, samples -1, swapBehavior QSurfaceFormat::SingleBuffer, swapInterval 1, colorSpace QSurfaceFormat::DefaultColorSpace, profile  QSurfaceFormat::NoProfile)\n",
      "No XVisualInfo for format QSurfaceFormat(version 2.0, options QFlags<QSurfaceFormat::FormatOption>(), depthBufferSize -1, redBufferSize 1, greenBufferSize 1, blueBufferSize 1, alphaBufferSize -1, stencilBufferSize -1, samples -1, swapBehavior QSurfaceFormat::SingleBuffer, swapInterval 1, colorSpace QSurfaceFormat::DefaultColorSpace, profile  QSurfaceFormat::NoProfile)\n",
      "Falling back to using screens root_visual.\n"
     ]
    }
   ],
   "source": [
    "import numpy as np\n",
    "import matplotlib.pyplot as plt\n",
    "\n",
    "with open('sensorlogger/sensorLog_20240715T191803.txt') as file:        \n",
    "    lines = [line.split() for line in file]\n",
    "\n",
    "#rename? \n",
    "acc = [ np.abs((np.sqrt(float(line[2])**2 + float(line[3])**2 + float(line[4])**2))-9.82) for line in lines ]\n",
    "#t = [(float(line[0])-float(lines[0][0]))/1000 for line in lines]\n",
    "\n",
    "%matplotlib qt\n",
    "plt.figure(figsize= (15,10))\n",
    "plt.subplot(311)\n",
    "plt.plot(acc)\n",
    "\n",
    "\"\"\"Windowing\"\"\"\n",
    "wLen = 100 # window length (samples)\n",
    "overlap = 0 # is higher resolution needed?\n",
    "windows = []\n",
    "\n",
    "step = wLen-overlap\n",
    "\n",
    "meanAcc = []\n",
    "for n in range(0,len(acc)-wLen +1,step):\n",
    "    #print(n)\n",
    "    meanAcc.append(sum(acc[n:n+wLen])/wLen)\n",
    "    windows.extend([sum(acc[n:n+wLen])/wLen]*wLen)    \n",
    "    \n",
    "\"\"\"Labels\"\"\"\n",
    "\n",
    "labels = []\n",
    "for a in meanAcc:\n",
    "    if a > 3.5:\n",
    "        labels.append(3)\n",
    "    elif a > 0.6:\n",
    "        labels.append(2)\n",
    "    else:\n",
    "        labels.append(1)\n",
    "        \n",
    "colors = {1: 'red', 2: 'green', 3: 'blue'}\n",
    "\n",
    "plt.subplot(312)\n",
    "#plt.plot(t[0:(len(acc)//wLen)*wLen],windows)\n",
    "plt.plot(windows)\n",
    "\n",
    "plt.subplot(313)\n",
    "plt.plot([t2 for t2 in range(0, len(acc), wLen)][:-1], meanAcc)\n",
    "for i, val in enumerate(labels):\n",
    "    plt.scatter(i*wLen, val, color = colors[val])\n",
    "\n",
    "plt.show()\n"
   ]
  },
  {
   "cell_type": "code",
   "execution_count": null,
   "id": "a41589cb",
   "metadata": {},
   "outputs": [],
   "source": [
    "\"\"\"Extracting data to csv\"\"\"\n",
    "\n",
    "import csv\n",
    "\n",
    "with open('features.csv' as csvfile):\n",
    "    Writer = csv.writer(csvfile)\n",
    "    for datapoint in x:                 ####\n",
    "        Writer.writeRow([])\n",
    "\n"
   ]
  },
  {
   "cell_type": "code",
   "execution_count": null,
   "id": "acb9b4f0",
   "metadata": {},
   "outputs": [],
   "source": [
    "\n",
    "\n",
    "\"\"\"Initialization\"\"\"\n",
    "\n",
    "\"\"\"Infinite ergodic HMM may start in any state. Assumption here is that\n",
    "    each state is equally likely to occur as initial state\"\"\"\n",
    "\n",
    "mc = MarkovChain( np.full((1,3)1/3) , np.array( [ [ 0.9, 0, 0 ], [ 0, 0.9, 0.1 ], [0, 0 ,0] ] ) )\n",
    "\n",
    "\"\"\"The diagonal elements of the transition matrix can be chosen to indicate \n",
    "    approximately the average state durations. Average recording duration ~34s, each state duration is ? long\"\"\"\n",
    "\n",
    "b1 = GaussD( means=[0], stdevs=[1] )   # Distribution for state = standing\n",
    "b2 = GaussD( means=[3], stdevs=[2] )   # Distribution for state = walking\n",
    "b3 = GaussD( means=[3], stdevs=[2] )   # Distribution for state = running\n",
    "\n",
    "\n",
    "\n",
    "\"\"\"Initial HMM\"\"\"\n",
    "\n",
    "h0  = HMM( mc, [g1, g2])"
   ]
  }
 ],
 "metadata": {
  "kernelspec": {
   "display_name": "Python 3 (ipykernel)",
   "language": "python",
   "name": "python3"
  },
  "language_info": {
   "codemirror_mode": {
    "name": "ipython",
    "version": 3
   },
   "file_extension": ".py",
   "mimetype": "text/x-python",
   "name": "python",
   "nbconvert_exporter": "python",
   "pygments_lexer": "ipython3",
   "version": "3.10.9"
  }
 },
 "nbformat": 4,
 "nbformat_minor": 5
}
