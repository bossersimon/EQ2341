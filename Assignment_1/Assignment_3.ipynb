{
 "cells": [
  {
   "cell_type": "markdown",
   "id": "b7c4f905",
   "metadata": {},
   "source": [
    "## Assigmnent 3"
   ]
  },
  {
   "cell_type": "code",
   "execution_count": 1,
   "id": "e859ca5d",
   "metadata": {},
   "outputs": [],
   "source": [
    "from PattRecClasses import DiscreteD, GaussD, HMM, MarkovChain\n",
    "from matplotlib import pyplot as plt\n",
    "\n",
    "import os\n",
    "import numpy as np"
   ]
  },
  {
   "cell_type": "markdown",
   "id": "5868d116",
   "metadata": {},
   "source": [
    "### Feature extraction"
   ]
  },
  {
   "cell_type": "code",
   "execution_count": 2,
   "id": "12fc38c6",
   "metadata": {},
   "outputs": [
    {
     "name": "stderr",
     "output_type": "stream",
     "text": [
      "/nix/store/b2hc0i92l22ir2kavnjn3z5z6mzabbvm-glibc-2.34-210/lib/libc.so.6: version `GLIBC_2.38' not found (required by /nix/store/6j6hl9x71gpq4siar7ns8w2fwx0s7d6q-gvfs-1.52.2/lib/gio/modules/libgvfsdbus.so)\n",
      "Failed to load module: /nix/store/6j6hl9x71gpq4siar7ns8w2fwx0s7d6q-gvfs-1.52.2/lib/gio/modules/libgvfsdbus.so\n",
      "QApplication: invalid style override 'gtk2' passed, ignoring it.\n",
      "\tAvailable styles: bb10dark, bb10bright, cleanlooks, gtk2, cde, motif, plastique, Windows, Fusion\n",
      "qt.glx: qglx_findConfig: Failed to finding matching FBConfig for QSurfaceFormat(version 2.0, options QFlags<QSurfaceFormat::FormatOption>(), depthBufferSize -1, redBufferSize 1, greenBufferSize 1, blueBufferSize 1, alphaBufferSize -1, stencilBufferSize -1, samples -1, swapBehavior QSurfaceFormat::SingleBuffer, swapInterval 1, colorSpace QSurfaceFormat::DefaultColorSpace, profile  QSurfaceFormat::NoProfile)\n",
      "No XVisualInfo for format QSurfaceFormat(version 2.0, options QFlags<QSurfaceFormat::FormatOption>(), depthBufferSize -1, redBufferSize 1, greenBufferSize 1, blueBufferSize 1, alphaBufferSize -1, stencilBufferSize -1, samples -1, swapBehavior QSurfaceFormat::SingleBuffer, swapInterval 1, colorSpace QSurfaceFormat::DefaultColorSpace, profile  QSurfaceFormat::NoProfile)\n",
      "Falling back to using screens root_visual.\n"
     ]
    }
   ],
   "source": [
    "\n",
    "acc = []\n",
    "\n",
    "for filename in os.listdir('sensorlogger'):\n",
    "    path = os.path.join('sensorlogger',filename)\n",
    "    with open(path) as file:        \n",
    "        if os.path.isfile(path):\n",
    "            lines = [line.split() for line in file]\n",
    "            # absolute value of norm of acceleration vector - gravity\n",
    "            acc.append([ np.abs((np.sqrt(float(line[2])**2 + float(line[3])**2 + float(line[4])**2))-9.82) for line in lines ])\n",
    "\n",
    "%matplotlib qt\n",
    "plt.figure(figsize= (10,5))\n",
    "plt.plot(acc[0])\n",
    "plt.title(\"Magnitude of l2-norm of Acceleration (Gravity Subtracted)\")\n",
    "plt.xlabel(\"Sample\")\n",
    "plt.ylabel(\"Amplitude\")\n",
    "\n",
    "plt.show()\n"
   ]
  },
  {
   "cell_type": "code",
   "execution_count": 3,
   "id": "954046a1",
   "metadata": {},
   "outputs": [
    {
     "name": "stderr",
     "output_type": "stream",
     "text": [
      "qt.glx: qglx_findConfig: Failed to finding matching FBConfig for QSurfaceFormat(version 2.0, options QFlags<QSurfaceFormat::FormatOption>(), depthBufferSize -1, redBufferSize 1, greenBufferSize 1, blueBufferSize 1, alphaBufferSize -1, stencilBufferSize -1, samples -1, swapBehavior QSurfaceFormat::SingleBuffer, swapInterval 1, colorSpace QSurfaceFormat::DefaultColorSpace, profile  QSurfaceFormat::NoProfile)\n",
      "No XVisualInfo for format QSurfaceFormat(version 2.0, options QFlags<QSurfaceFormat::FormatOption>(), depthBufferSize -1, redBufferSize 1, greenBufferSize 1, blueBufferSize 1, alphaBufferSize -1, stencilBufferSize -1, samples -1, swapBehavior QSurfaceFormat::SingleBuffer, swapInterval 1, colorSpace QSurfaceFormat::DefaultColorSpace, profile  QSurfaceFormat::NoProfile)\n",
      "Falling back to using screens root_visual.\n"
     ]
    }
   ],
   "source": [
    "\n",
    "\"\"\"Windowing\"\"\"\n",
    "wLen = 100 # window length (samples)\n",
    "overlap = 0 # is \n",
    "windows = []\n",
    "\n",
    "step = wLen-overlap\n",
    "\n",
    "X = []\n",
    "\n",
    "count = 0\n",
    "for rec in acc:\n",
    "    x = []\n",
    "    for n in range(0,len(rec)-wLen +1,step):\n",
    "        x.append( sum(rec[n:n+wLen])/wLen )\n",
    "        \n",
    "  #  print(np.shape(x))\n",
    "    \n",
    "    \"\"\"divide recordings into chunks of 50 windows\"\"\"\n",
    "    #####\n",
    "    nchunks = len(x)//50\n",
    "    chunks = [x[n:n+50] for n in range(0, len(x), 50)]    \n",
    "    if len(chunks[-1]) <40 and len(x)>= 50:\n",
    "        chunks[-2].extend(chunks[-1])\n",
    "        chunks = chunks[:-1]        \n",
    "    X.extend(chunks)\n",
    "    count = count + nchunks+1 \n",
    "    #####\n",
    "    \n",
    "plt.figure(figsize= (10,5))\n",
    "plt.plot(X[0])\n",
    "plt.title(\"Means of Segments of Acceleration\")\n",
    "plt.xlabel(\"Window\")\n",
    "plt.ylabel(\"Amplitude\")\n",
    "\n",
    "plt.show()\n"
   ]
  },
  {
   "cell_type": "code",
   "execution_count": 4,
   "id": "040bbfd1",
   "metadata": {},
   "outputs": [
    {
     "name": "stderr",
     "output_type": "stream",
     "text": [
      "qt.glx: qglx_findConfig: Failed to finding matching FBConfig for QSurfaceFormat(version 2.0, options QFlags<QSurfaceFormat::FormatOption>(), depthBufferSize -1, redBufferSize 1, greenBufferSize 1, blueBufferSize 1, alphaBufferSize -1, stencilBufferSize -1, samples -1, swapBehavior QSurfaceFormat::SingleBuffer, swapInterval 1, colorSpace QSurfaceFormat::DefaultColorSpace, profile  QSurfaceFormat::NoProfile)\n",
      "No XVisualInfo for format QSurfaceFormat(version 2.0, options QFlags<QSurfaceFormat::FormatOption>(), depthBufferSize -1, redBufferSize 1, greenBufferSize 1, blueBufferSize 1, alphaBufferSize -1, stencilBufferSize -1, samples -1, swapBehavior QSurfaceFormat::SingleBuffer, swapInterval 1, colorSpace QSurfaceFormat::DefaultColorSpace, profile  QSurfaceFormat::NoProfile)\n",
      "Falling back to using screens root_visual.\n"
     ]
    }
   ],
   "source": [
    "\"\"\"Cluster training data into N separate categories, for estimation of output probabilities\"\"\"\n",
    "data1 = [] \n",
    "data2 = []\n",
    "data3 = []\n",
    "\n",
    "\"\"\"Automatic labeling\"\"\"\n",
    "S = [] # labels\n",
    "for rec in X:\n",
    "    s = []\n",
    "    for a in rec:\n",
    "        if a > 3.5:\n",
    "            s.append(3) #running\n",
    "            data3.append(a)\n",
    "        elif a > 0.6:\n",
    "            s.append(2)  #walking\n",
    "            data2.append(a)\n",
    "        else:\n",
    "            s.append(1)  #standing\n",
    "            data1.append(a)\n",
    "    S.append(s)  \n",
    "        \n",
    "colors = {1: 'red', 2: 'green', 3: 'blue'}\n",
    "\n",
    "plt.figure(figsize= (10,5))\n",
    "plt.plot([t2 for t2 in range(0, len(X[0]))], X[0])\n",
    "for i, val in enumerate(S[0]):\n",
    "    plt.scatter(i, val, c = colors[val])\n",
    "for key in colors: \n",
    "    plt.scatter([],[], c=colors[key], label = f'S = {key}')\n",
    "    \n",
    "plt.legend()\n",
    "    \n",
    "plt.legend()\n",
    "plt.title(\"Labeled Segments\")\n",
    "plt.xlabel(\"Window\")\n",
    "plt.ylabel(\"Amplitude\")\n",
    "\n",
    "plt.show()"
   ]
  },
  {
   "cell_type": "code",
   "execution_count": 5,
   "id": "2a3366fa",
   "metadata": {},
   "outputs": [
    {
     "name": "stderr",
     "output_type": "stream",
     "text": [
      "qt.glx: qglx_findConfig: Failed to finding matching FBConfig for QSurfaceFormat(version 2.0, options QFlags<QSurfaceFormat::FormatOption>(), depthBufferSize -1, redBufferSize 1, greenBufferSize 1, blueBufferSize 1, alphaBufferSize -1, stencilBufferSize -1, samples -1, swapBehavior QSurfaceFormat::SingleBuffer, swapInterval 1, colorSpace QSurfaceFormat::DefaultColorSpace, profile  QSurfaceFormat::NoProfile)\n",
      "No XVisualInfo for format QSurfaceFormat(version 2.0, options QFlags<QSurfaceFormat::FormatOption>(), depthBufferSize -1, redBufferSize 1, greenBufferSize 1, blueBufferSize 1, alphaBufferSize -1, stencilBufferSize -1, samples -1, swapBehavior QSurfaceFormat::SingleBuffer, swapInterval 1, colorSpace QSurfaceFormat::DefaultColorSpace, profile  QSurfaceFormat::NoProfile)\n",
      "Falling back to using screens root_visual.\n"
     ]
    }
   ],
   "source": [
    "\"\"\"All plots\"\"\"\n",
    "\n",
    "plt.figure(figsize= (15,10))\n",
    "\n",
    "plt.subplot(311)\n",
    "plt.plot(acc[0])\n",
    "\n",
    "plt.subplot(312)\n",
    "plt.plot(X[0])\n",
    "\n",
    "plt.subplot(313)\n",
    "plt.plot([t2 for t2 in range(0, len(X[0]))], X[0])\n",
    "for i, val in enumerate(S[0]):\n",
    "    plt.scatter(i, val, color = colors[val])\n",
    "\n",
    "plt.show()\n",
    "\n"
   ]
  },
  {
   "cell_type": "code",
   "execution_count": 6,
   "id": "c3faef0d",
   "metadata": {},
   "outputs": [
    {
     "name": "stderr",
     "output_type": "stream",
     "text": [
      "qt.glx: qglx_findConfig: Failed to finding matching FBConfig for QSurfaceFormat(version 2.0, options QFlags<QSurfaceFormat::FormatOption>(), depthBufferSize -1, redBufferSize 1, greenBufferSize 1, blueBufferSize 1, alphaBufferSize -1, stencilBufferSize -1, samples -1, swapBehavior QSurfaceFormat::SingleBuffer, swapInterval 1, colorSpace QSurfaceFormat::DefaultColorSpace, profile  QSurfaceFormat::NoProfile)\n",
      "No XVisualInfo for format QSurfaceFormat(version 2.0, options QFlags<QSurfaceFormat::FormatOption>(), depthBufferSize -1, redBufferSize 1, greenBufferSize 1, blueBufferSize 1, alphaBufferSize -1, stencilBufferSize -1, samples -1, swapBehavior QSurfaceFormat::SingleBuffer, swapInterval 1, colorSpace QSurfaceFormat::DefaultColorSpace, profile  QSurfaceFormat::NoProfile)\n",
      "Falling back to using screens root_visual.\n"
     ]
    }
   ],
   "source": [
    "\n",
    "fig, (ax1,ax2,ax3) = plt.subplots(3)\n",
    "\n",
    "ax1.hist(data1, bins = 30)\n",
    "ax2.hist(data2, bins = 30)\n",
    "ax3.hist(data3, bins = 30)\n",
    "plt.show()\n"
   ]
  },
  {
   "cell_type": "code",
   "execution_count": 7,
   "id": "6caa74c1",
   "metadata": {},
   "outputs": [],
   "source": [
    "plt.hist(data2, bins = 30)\n",
    "plt.title(\"Feature Sample Amplitudes\")\n",
    "plt.xlabel(\"Amplitude\")\n",
    "plt.ylabel(\"Count\")\n",
    "plt.show()"
   ]
  },
  {
   "cell_type": "markdown",
   "id": "5cc8eceb",
   "metadata": {},
   "source": [
    "## Train/Test Split"
   ]
  },
  {
   "cell_type": "code",
   "execution_count": 8,
   "id": "31087ce7",
   "metadata": {},
   "outputs": [],
   "source": [
    "\n",
    "from sklearn.model_selection import train_test_split\n",
    "\n",
    "datapoints = np.array([X,S], dtype = object).T\n",
    "\n",
    "X_train, X_test, y_train, y_test = train_test_split( X,S, test_size = 0.33, random_state = 1)\n"
   ]
  },
  {
   "cell_type": "code",
   "execution_count": 9,
   "id": "a41589cb",
   "metadata": {},
   "outputs": [],
   "source": [
    "\"\"\"Exporting data to csv\"\"\"\n",
    "\n",
    "import csv\n",
    "\n",
    "with open('features.csv', 'w') as csvfile:\n",
    "    Writer = csv.writer(csvfile)\n",
    "    for data in datapoints:\n",
    "        Writer.writerow(data)\n",
    "        "
   ]
  },
  {
   "cell_type": "code",
   "execution_count": 10,
   "id": "acb9b4f0",
   "metadata": {},
   "outputs": [
    {
     "name": "stdout",
     "output_type": "stream",
     "text": [
      "0.2162458875181304 0.12492265518154028\n",
      "1.7585476077498798 0.44732077037465684\n",
      "6.011873669473138 0.990593615394949\n"
     ]
    }
   ],
   "source": [
    "\"\"\"Initialization\"\"\"\n",
    "\n",
    "\"\"\"Infinite ergodic HMM may start in any state. Assumption here is that\n",
    "    each state is equally likely to occur as initial state\"\"\"\n",
    "\n",
    "mc = MarkovChain( np.full( (1,3),1/3 ) , np.array( [ [0.9, 0.09, 0.01],\n",
    "                                                     [0.05, 0.9, 0.05],\n",
    "                                                     [0.01, 0.09, 0.9] ] ))\n",
    "\n",
    "\"\"\"The diagonal elements of the transition matrix can be chosen to indicate \n",
    "    approximately the average state durations. Here I assume that each state duration is equally long\"\"\"\n",
    "\n",
    "from scipy.stats import norm\n",
    "        \n",
    "mu1, std1 = norm.fit(data1) #standing\n",
    "mu2, std2 = norm.fit(data2) #walking\n",
    "mu3, std3 = norm.fit(data3) #running\n",
    "\n",
    "# Looks reasonable\n",
    "print(mu1,std1)\n",
    "print(mu2,std2)\n",
    "print(mu3,std3)\n",
    "\n",
    "\n",
    "b1 = GaussD( means=[mu1], stdevs=[std1] )   # Distribution for state = standing\n",
    "b2 = GaussD( means=[mu2], stdevs=[std2] )   # Distribution for state = walking\n",
    "b3 = GaussD( means=[mu3], stdevs=[std3] )   # Distribution for state = running\n",
    "\n",
    "\"\"\"Initial HMM\"\"\"\n",
    "\n",
    "h  = HMM( mc, [b1, b2, b3])"
   ]
  },
  {
   "cell_type": "markdown",
   "id": "1554fe4a",
   "metadata": {},
   "source": [
    "### Training"
   ]
  },
  {
   "cell_type": "code",
   "execution_count": 11,
   "id": "423a6a9d",
   "metadata": {},
   "outputs": [
    {
     "name": "stdout",
     "output_type": "stream",
     "text": [
      "[[0.16756731 0.55660027 0.27583242]]\n",
      "[[0.85966746 0.13281941 0.00751313]\n",
      " [0.03885805 0.92395303 0.03718892]\n",
      " [0.00379829 0.06095733 0.93524439]]\n"
     ]
    }
   ],
   "source": [
    "h.train(X_train)\n",
    "\n",
    "print(h.stateGen.q)\n",
    "print(h.stateGen.A)"
   ]
  },
  {
   "cell_type": "markdown",
   "id": "b1f692ff",
   "metadata": {},
   "source": [
    "## Evaluation"
   ]
  },
  {
   "cell_type": "code",
   "execution_count": 20,
   "id": "c0c1e8c6",
   "metadata": {
    "scrolled": true
   },
   "outputs": [
    {
     "name": "stdout",
     "output_type": "stream",
     "text": [
      "Correct classifications: 0.9959183673469387 %\n"
     ]
    },
    {
     "name": "stderr",
     "output_type": "stream",
     "text": [
      "qt.glx: qglx_findConfig: Failed to finding matching FBConfig for QSurfaceFormat(version 2.0, options QFlags<QSurfaceFormat::FormatOption>(), depthBufferSize -1, redBufferSize 1, greenBufferSize 1, blueBufferSize 1, alphaBufferSize -1, stencilBufferSize -1, samples -1, swapBehavior QSurfaceFormat::SingleBuffer, swapInterval 1, colorSpace QSurfaceFormat::DefaultColorSpace, profile  QSurfaceFormat::NoProfile)\n",
      "No XVisualInfo for format QSurfaceFormat(version 2.0, options QFlags<QSurfaceFormat::FormatOption>(), depthBufferSize -1, redBufferSize 1, greenBufferSize 1, blueBufferSize 1, alphaBufferSize -1, stencilBufferSize -1, samples -1, swapBehavior QSurfaceFormat::SingleBuffer, swapInterval 1, colorSpace QSurfaceFormat::DefaultColorSpace, profile  QSurfaceFormat::NoProfile)\n",
      "Falling back to using screens root_visual.\n"
     ]
    }
   ],
   "source": [
    "from sklearn.metrics import ConfusionMatrixDisplay\n",
    "from sklearn.metrics import confusion_matrix\n",
    "\n",
    "test_seq = []\n",
    "for x_obs in X_test:\n",
    "    test_seq.extend(h.viterbi(x_obs))\n",
    "    \n",
    "y_true = []\n",
    "for y in y_test:\n",
    "    y_true.extend([j for j in y])\n",
    "\n",
    "count = 0\n",
    "for i, j in zip(y_true,test_seq):\n",
    "    if i == j:\n",
    "        count = count+1\n",
    "        \n",
    "print(f\"Correct classifications: {count/len(y_true)} %\")\n",
    "\n",
    "cm = confusion_matrix(y_true, test_seq)\n",
    "disp = ConfusionMatrixDisplay(confusion_matrix=cm, display_labels = ('Standing', 'Walking', 'Running')) \n",
    "\n",
    "disp.plot()\n",
    "plt.show()\n"
   ]
  }
 ],
 "metadata": {
  "kernelspec": {
   "display_name": "Python 3 (ipykernel)",
   "language": "python",
   "name": "python3"
  },
  "language_info": {
   "codemirror_mode": {
    "name": "ipython",
    "version": 3
   },
   "file_extension": ".py",
   "mimetype": "text/x-python",
   "name": "python",
   "nbconvert_exporter": "python",
   "pygments_lexer": "ipython3",
   "version": "3.10.9"
  }
 },
 "nbformat": 4,
 "nbformat_minor": 5
}
