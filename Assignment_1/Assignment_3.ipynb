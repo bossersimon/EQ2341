{
 "cells": [
  {
   "cell_type": "markdown",
   "id": "b7c4f905",
   "metadata": {},
   "source": [
    "## Assigmnent 3"
   ]
  },
  {
   "cell_type": "code",
   "execution_count": 1,
   "id": "4546dd3a",
   "metadata": {},
   "outputs": [
    {
     "ename": "SyntaxError",
     "evalue": "invalid syntax (3236137079.py, line 1)",
     "output_type": "error",
     "traceback": [
      "\u001b[0;36m  Input \u001b[0;32mIn [1]\u001b[0;36m\u001b[0m\n\u001b[0;31m    https://www.kaggle.com/datasets/avk256/activity-recognition\u001b[0m\n\u001b[0m          ^\u001b[0m\n\u001b[0;31mSyntaxError\u001b[0m\u001b[0;31m:\u001b[0m invalid syntax\n"
     ]
    }
   ],
   "source": [
    "#https://www.kaggle.com/datasets/avk256/activity-recognition"
   ]
  },
  {
   "cell_type": "code",
   "execution_count": 2,
   "id": "ad7dfa56",
   "metadata": {},
   "outputs": [
    {
     "data": {
      "text/plain": [
       "\"\\nimport os\\n\\nfor filename in os.listdir('sensorlogger'):\\n    f = os.path.join('sensorlogger', filename)\\n    \\n    if os.path.isfile(f):\\n   \""
      ]
     },
     "execution_count": 2,
     "metadata": {},
     "output_type": "execute_result"
    }
   ],
   "source": [
    "\n",
    "\"\"\"\n",
    "import os\n",
    "\n",
    "for filename in os.listdir('sensorlogger'):\n",
    "    f = os.path.join('sensorlogger', filename)\n",
    "    \n",
    "    if os.path.isfile(f):\n",
    "   \"\"\"     \n",
    "\n"
   ]
  },
  {
   "cell_type": "code",
   "execution_count": 88,
   "id": "12fc38c6",
   "metadata": {},
   "outputs": [
    {
     "name": "stderr",
     "output_type": "stream",
     "text": [
      "qt.glx: qglx_findConfig: Failed to finding matching FBConfig for QSurfaceFormat(version 2.0, options QFlags<QSurfaceFormat::FormatOption>(), depthBufferSize -1, redBufferSize 1, greenBufferSize 1, blueBufferSize 1, alphaBufferSize -1, stencilBufferSize -1, samples -1, swapBehavior QSurfaceFormat::SingleBuffer, swapInterval 1, colorSpace QSurfaceFormat::DefaultColorSpace, profile  QSurfaceFormat::NoProfile)\n",
      "No XVisualInfo for format QSurfaceFormat(version 2.0, options QFlags<QSurfaceFormat::FormatOption>(), depthBufferSize -1, redBufferSize 1, greenBufferSize 1, blueBufferSize 1, alphaBufferSize -1, stencilBufferSize -1, samples -1, swapBehavior QSurfaceFormat::SingleBuffer, swapInterval 1, colorSpace QSurfaceFormat::DefaultColorSpace, profile  QSurfaceFormat::NoProfile)\n",
      "Falling back to using screens root_visual.\n"
     ]
    }
   ],
   "source": [
    "import numpy as np\n",
    "import matplotlib.pyplot as plt\n",
    "\n",
    "with open('sensorlogger/sensorLog_20240715T191803.txt') as file:        \n",
    "    lines = [line.split() for line in file]\n",
    "\n",
    "acc = [ np.abs((np.sqrt(float(line[2])**2 + float(line[3])**2 + float(line[4])**2))-9.82) for line in lines ]\n",
    "t = [(float(line[0])-float(lines[0][0]))/100 for line in lines]\n",
    "\n",
    "\n",
    "%matplotlib qt\n",
    "plt.figure(figsize= (15,5))\n",
    "plt.plot(t, acc)\n",
    "\n",
    "\"\"\"\n",
    "plt.axvline(86,c = 'r')\n",
    "plt.axvline(127,c = 'r')\n",
    "plt.axvline(215,c = 'r')\n",
    "plt.axvline(450,c = 'r')\n",
    "plt.axvline(660,c = 'r')\n",
    "plt.axvline(743,c = 'r')\n",
    "plt.axvline(820,c = 'r')\n",
    "plt.axvline(830,c = 'r')\n",
    "plt.axvline(910,c = 'r')\n",
    "plt.axvline(1005,c = 'r')\n",
    "plt.axvline(1060,c = 'r')\n",
    "plt.axvline(1080,c = 'r')\n",
    "plt.axvline(1175,c = 'r')\n",
    "plt.axvline(1210,c = 'r')\n",
    "plt.axvline(1270,c = 'r')\n",
    "\"\"\"\n",
    "\n",
    "plt.show()\n"
   ]
  },
  {
   "cell_type": "code",
   "execution_count": null,
   "id": "b52e7eac",
   "metadata": {},
   "outputs": [],
   "source": [
    "\"\"\"Labeling\"\"\"\n",
    "\n"
   ]
  },
  {
   "cell_type": "code",
   "execution_count": 18,
   "id": "9cf99687",
   "metadata": {},
   "outputs": [
    {
     "name": "stdout",
     "output_type": "stream",
     "text": [
      "176.51\n"
     ]
    }
   ],
   "source": [
    "\"\"\"Windowing\"\"\"\n",
    "\n",
    "rec_length = len(acc)/100\n",
    "print(rec_length)"
   ]
  },
  {
   "cell_type": "code",
   "execution_count": null,
   "id": "57878b4d",
   "metadata": {},
   "outputs": [],
   "source": []
  },
  {
   "cell_type": "code",
   "execution_count": null,
   "id": "acb9b4f0",
   "metadata": {},
   "outputs": [],
   "source": [
    "\n",
    "\n",
    "\"\"\"Initialization\"\"\"\n",
    "\n",
    "\"\"\"Infinite ergodic HMM may start in any state. Assumption here is that\n",
    "    each state is equally likely to occur as initial state\"\"\"\n",
    "\n",
    "mc = MarkovChain( np.full((1,3)1/3) , np.array( [ [ 0.9, 0, 0 ], [ 0, 0.9, 0.1 ], [0, 0 ,0] ] ) )\n",
    "\n",
    "\"\"\"The diagonal elements of the transition matrix can be chosen to indicate \n",
    "    approximately the average state durations. Average recording duration ~34s, each state duration is ? long\"\"\"\n",
    "\n",
    "b1 = GaussD( means=[0], stdevs=[1] )   # Distribution for state = standing\n",
    "b2 = GaussD( means=[3], stdevs=[2] )   # Distribution for state = walking\n",
    "b3 = GaussD( means=[3], stdevs=[2] )   # Distribution for state = running\n",
    "\n",
    "\n",
    "\n",
    "\"\"\"Initial HMM\"\"\"\n",
    "\n",
    "h0  = HMM( mc, [g1, g2])"
   ]
  }
 ],
 "metadata": {
  "kernelspec": {
   "display_name": "Python 3 (ipykernel)",
   "language": "python",
   "name": "python3"
  },
  "language_info": {
   "codemirror_mode": {
    "name": "ipython",
    "version": 3
   },
   "file_extension": ".py",
   "mimetype": "text/x-python",
   "name": "python",
   "nbconvert_exporter": "python",
   "pygments_lexer": "ipython3",
   "version": "3.10.9"
  }
 },
 "nbformat": 4,
 "nbformat_minor": 5
}
