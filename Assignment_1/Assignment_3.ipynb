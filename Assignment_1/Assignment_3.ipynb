{
 "cells": [
  {
   "cell_type": "markdown",
   "id": "b7c4f905",
   "metadata": {},
   "source": [
    "## Assigmnent 3"
   ]
  },
  {
   "cell_type": "code",
   "execution_count": 1,
   "id": "e859ca5d",
   "metadata": {},
   "outputs": [],
   "source": [
    "from PattRecClasses import DiscreteD, GaussD, HMM, MarkovChain\n",
    "from matplotlib import pyplot as plt\n",
    "\n",
    "import os\n",
    "import numpy as np"
   ]
  },
  {
   "cell_type": "code",
   "execution_count": 2,
   "id": "4546dd3a",
   "metadata": {},
   "outputs": [],
   "source": [
    "#https://www.kaggle.com/datasets/avk256/activity-recognition"
   ]
  },
  {
   "cell_type": "markdown",
   "id": "5868d116",
   "metadata": {},
   "source": [
    "### Feature extraction"
   ]
  },
  {
   "cell_type": "code",
   "execution_count": 2,
   "id": "12fc38c6",
   "metadata": {},
   "outputs": [],
   "source": [
    "\n",
    "acc = []\n",
    "#tau = [] # sample index for first sample in each recording\n",
    "\n",
    "for filename in os.listdir('sensorlogger'):\n",
    "    path = os.path.join('sensorlogger',filename)\n",
    "    with open(path) as file:        \n",
    "        if os.path.isfile(path):\n",
    "            lines = [line.split() for line in file]\n",
    "            acc.append([ np.abs((np.sqrt(float(line[2])**2 + float(line[3])**2 + float(line[4])**2))-9.82) for line in lines ])\n"
   ]
  },
  {
   "cell_type": "code",
   "execution_count": 26,
   "id": "954046a1",
   "metadata": {},
   "outputs": [
    {
     "name": "stderr",
     "output_type": "stream",
     "text": [
      "qt.glx: qglx_findConfig: Failed to finding matching FBConfig for QSurfaceFormat(version 2.0, options QFlags<QSurfaceFormat::FormatOption>(), depthBufferSize -1, redBufferSize 1, greenBufferSize 1, blueBufferSize 1, alphaBufferSize -1, stencilBufferSize -1, samples -1, swapBehavior QSurfaceFormat::SingleBuffer, swapInterval 1, colorSpace QSurfaceFormat::DefaultColorSpace, profile  QSurfaceFormat::NoProfile)\n",
      "No XVisualInfo for format QSurfaceFormat(version 2.0, options QFlags<QSurfaceFormat::FormatOption>(), depthBufferSize -1, redBufferSize 1, greenBufferSize 1, blueBufferSize 1, alphaBufferSize -1, stencilBufferSize -1, samples -1, swapBehavior QSurfaceFormat::SingleBuffer, swapInterval 1, colorSpace QSurfaceFormat::DefaultColorSpace, profile  QSurfaceFormat::NoProfile)\n",
      "Falling back to using screens root_visual.\n"
     ]
    },
    {
     "name": "stdout",
     "output_type": "stream",
     "text": [
      "(233,)\n",
      "(6,)\n",
      "(161,)\n",
      "(176,)\n",
      "(310,)\n",
      "(104,)\n",
      "(150,)\n"
     ]
    }
   ],
   "source": [
    "%matplotlib qt\n",
    "plt.figure(figsize= (15,10))\n",
    "plt.subplot(311)\n",
    "plt.plot(acc[0])\n",
    "\n",
    "\"\"\"Windowing\"\"\"\n",
    "wLen = 100 # window length (samples)\n",
    "overlap = 0 # is higher resolution needed?\n",
    "windows = []\n",
    "\n",
    "step = wLen-overlap\n",
    "\n",
    "X = []\n",
    "for rec in acc:\n",
    "    x = []\n",
    "    wnd = []\n",
    "    for n in range(0,len(rec)-wLen +1,step):\n",
    "        x.append( sum(rec[n:n+wLen])/wLen )\n",
    "        wnd.extend( [sum(rec[n:n+wLen])/wLen] *wLen )\n",
    "\n",
    "    print(np.shape(x))\n",
    "    X.append(x)\n",
    "    windows.append(wnd)\n",
    "\n",
    "    \n",
    "\"\"\"Labels\"\"\"\n",
    "S = []\n",
    "\n",
    "\"\"\"Cluster training data into N separate categories, for estimation of output probabilities\"\"\"\n",
    "data1 = []\n",
    "data2 = []\n",
    "data3 = []\n",
    "\n",
    "for rec in X:\n",
    "    s = []\n",
    "    for a in rec:\n",
    "        if a > 3.5:\n",
    "            s.append(3) #running\n",
    "            data3.append(a)\n",
    "        elif a > 0.6:\n",
    "            s.append(2)  #walking\n",
    "            data2.append(a)\n",
    "        else:\n",
    "            s.append(1)  #standing\n",
    "            data1.append(a)\n",
    "            \n",
    "    S.append(s)\n",
    "        \n",
    "colors = {1: 'red', 2: 'green', 3: 'blue'}\n",
    "\n",
    "plt.subplot(312)\n",
    "plt.plot(windows[0])\n",
    "\n",
    "plt.subplot(313)\n",
    "plt.plot([t2 for t2 in range(0, len(acc[0]), wLen)][:-1], X[0])\n",
    "for i, val in enumerate(S[0]):\n",
    "    plt.scatter(i*wLen, val, color = colors[val])\n",
    "\n",
    "plt.show()\n"
   ]
  },
  {
   "cell_type": "code",
   "execution_count": 5,
   "id": "c3faef0d",
   "metadata": {},
   "outputs": [
    {
     "data": {
      "text/plain": [
       "'\\n\\nfig, (ax1,ax2,ax3) = plt.subplots(3)\\n\\nax1.hist(data1, bins = 30)\\nax2.hist(data2, bins = 30)\\nax3.hist(data3, bins = 30)\\nplt.show()\\n'"
      ]
     },
     "execution_count": 5,
     "metadata": {},
     "output_type": "execute_result"
    }
   ],
   "source": [
    "\"\"\"\n",
    "\n",
    "fig, (ax1,ax2,ax3) = plt.subplots(3)\n",
    "\n",
    "ax1.hist(data1, bins = 30)\n",
    "ax2.hist(data2, bins = 30)\n",
    "ax3.hist(data3, bins = 30)\n",
    "plt.show()\n",
    "\"\"\""
   ]
  },
  {
   "cell_type": "code",
   "execution_count": 6,
   "id": "a41589cb",
   "metadata": {},
   "outputs": [],
   "source": [
    "\"\"\"Extracting data to csv\"\"\"\n",
    "\n",
    "datapoints = np.array([X,S], dtype = object).T\n",
    "\n",
    "import csv\n",
    "\n",
    "with open('features.csv', 'w') as csvfile:\n",
    "    Writer = csv.writer(csvfile)\n",
    "    for data in datapoints:\n",
    "        Writer.writerow(data)\n",
    "\n"
   ]
  },
  {
   "cell_type": "code",
   "execution_count": 4,
   "id": "acb9b4f0",
   "metadata": {},
   "outputs": [
    {
     "name": "stdout",
     "output_type": "stream",
     "text": [
      "0.2149082219447096 0.12722765619672527\n",
      "1.7420355493184476 0.45829907888362154\n",
      "5.9660427944252 0.9862693139955239\n"
     ]
    },
    {
     "name": "stderr",
     "output_type": "stream",
     "text": [
      "\n",
      "** (python3.10:3915): WARNING **: 10:08:07.269: atk-bridge: get_device_events_reply: unknown signature\n"
     ]
    }
   ],
   "source": [
    "\"\"\"Initialization\"\"\"\n",
    "\n",
    "\"\"\"Infinite ergodic HMM may start in any state. Assumption here is that\n",
    "    each state is equally likely to occur as initial state\"\"\"\n",
    "\n",
    "A = np.array( [ [0.9, 0.09, 0.01],\n",
    "             [0.05, 0.9, 0.05],\n",
    "             [0.01, 0.09, 0.9] ])\n",
    "\n",
    "mc = MarkovChain( np.full( (1,3),1/3 ) , A )\n",
    "\n",
    "\"\"\"The diagonal elements of the transition matrix can be chosen to indicate \n",
    "    approximately the average state durations. Here I assume that each state duration is equally long\"\"\"\n",
    "\n",
    "\n",
    "\"\"\"Output probability distributions must be initialized differently for each state\"\"\"\n",
    "# Maybe do this with separate data?\n",
    "\n",
    "from scipy.stats import norm\n",
    "        \n",
    "mu1, std1 = norm.fit(data1) #standing\n",
    "mu2, std2 = norm.fit(data2) #walking\n",
    "mu3, std3 = norm.fit(data3) #running\n",
    "\n",
    "\n",
    "# Looks reasonable\n",
    "print(mu1,std1)\n",
    "print(mu2,std2)\n",
    "print(mu3,std3)\n",
    "\n",
    "\n",
    "b1 = GaussD( means=[mu1], stdevs=[std1] )   # Distribution for state = standing\n",
    "b2 = GaussD( means=[mu2], stdevs=[std2] )   # Distribution for state = walking\n",
    "b3 = GaussD( means=[mu3], stdevs=[std3] )   # Distribution for state = running\n",
    "\n",
    "\"\"\"Initial HMM\"\"\"\n",
    "\n",
    "h0  = HMM( mc, [b1, b2, b3])"
   ]
  },
  {
   "cell_type": "markdown",
   "id": "1554fe4a",
   "metadata": {},
   "source": [
    "### Training"
   ]
  },
  {
   "cell_type": "code",
   "execution_count": 24,
   "id": "cac37dc3",
   "metadata": {},
   "outputs": [
    {
     "name": "stdout",
     "output_type": "stream",
     "text": [
      "q_new: [[0.4285534  0.29092337 0.28052323]]\n",
      "\n",
      "a_new:\n",
      " [[8.60366879e-01 1.32682680e-01 6.95044070e-03]\n",
      " [4.03676715e-02 9.24190205e-01 3.54421231e-02]\n",
      " [6.36631262e-07 6.32108719e-02 9.36788491e-01]]\n",
      "\n"
     ]
    }
   ],
   "source": [
    "\"\"\"Updating initial probability vector, and transition probabilities\"\"\"\n",
    "\n",
    "epsilon = 10e-10\n",
    "\n",
    "gma = []\n",
    "xi = []\n",
    "# for x in training data\n",
    "for x_obs in X:\n",
    "    pX = np.array([b1.prob(x_obs), b2.prob(x_obs), b3.prob(x_obs)])\n",
    "    xi_r = np.zeros( (3,3,len(x_obs)) )\n",
    "\n",
    "    # replace zero probabilities with some small probability epsilon\n",
    "    with np.nditer(pX, op_flags =['readwrite']) as it:\n",
    "        for x in it:\n",
    "            x[...] = max(x,epsilon)\n",
    "\n",
    "    \"\"\"normalize\"\"\"\n",
    "    pX = pX / np.sum(pX,axis=0)\n",
    "\n",
    "    \"\"\"Scaling?\"\"\"\n",
    "    #sf = [np.max(p) for p in pX.T]\n",
    "    #pX = pX/sf\n",
    "\n",
    "    [alfaHat, c] = mc.forward(pX)\n",
    "    betaHat = mc.backward(pX, c)\n",
    "    \n",
    "    tmp = np.multiply(alfaHat, betaHat)\n",
    "    gma_r = np.multiply(tmp,c) # gamma i,t\n",
    "    gma.append(gma_r)\n",
    "    \n",
    "    \"\"\"xi\"\"\"\n",
    "    for t in range(len(x_obs)-1):\n",
    "        for i in range(3):\n",
    "            for j in range(3):\n",
    "                xi_r[i,j,t] = alfaHat[i,t]*A[i,j]*pX[j,t+1]*betaHat[j,t+1]\n",
    "        \n",
    "    xi.append(np.sum(xi_r[:,:,:-1], axis = 2))\n",
    "    \n",
    "xi = np.sum( np.array(xi), axis= 0)\n",
    "\n",
    "\"\"\"Update equation\"\"\"\n",
    "q_new = np.zeros((1,3))\n",
    "for r in gma:\n",
    "    q_new = q_new + r[:,0]\n",
    "    \n",
    "q_new = q_new/len(gma)\n",
    "a_new = xi/(np.sum(xi,axis=1)[:,None])\n",
    "\n",
    "print(f\"q_new: {q_new}\\n\")\n",
    "print(f\"a_new:\\n {a_new}\\n\")\n",
    "\n",
    "#print(np.sum(a_new,axis = 1)) # should add up to 1"
   ]
  }
 ],
 "metadata": {
  "kernelspec": {
   "display_name": "Python 3 (ipykernel)",
   "language": "python",
   "name": "python3"
  },
  "language_info": {
   "codemirror_mode": {
    "name": "ipython",
    "version": 3
   },
   "file_extension": ".py",
   "mimetype": "text/x-python",
   "name": "python",
   "nbconvert_exporter": "python",
   "pygments_lexer": "ipython3",
   "version": "3.10.9"
  }
 },
 "nbformat": 4,
 "nbformat_minor": 5
}
