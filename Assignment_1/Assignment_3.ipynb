{
 "cells": [
  {
   "cell_type": "markdown",
   "id": "b7c4f905",
   "metadata": {},
   "source": [
    "## Assigmnent 3"
   ]
  },
  {
   "cell_type": "code",
   "execution_count": 1,
   "id": "4546dd3a",
   "metadata": {},
   "outputs": [
    {
     "ename": "SyntaxError",
     "evalue": "invalid syntax (3236137079.py, line 1)",
     "output_type": "error",
     "traceback": [
      "\u001b[0;36m  Input \u001b[0;32mIn [1]\u001b[0;36m\u001b[0m\n\u001b[0;31m    https://www.kaggle.com/datasets/avk256/activity-recognition\u001b[0m\n\u001b[0m          ^\u001b[0m\n\u001b[0;31mSyntaxError\u001b[0m\u001b[0;31m:\u001b[0m invalid syntax\n"
     ]
    }
   ],
   "source": [
    "#https://www.kaggle.com/datasets/avk256/activity-recognition"
   ]
  },
  {
   "cell_type": "code",
   "execution_count": 2,
   "id": "ad7dfa56",
   "metadata": {},
   "outputs": [
    {
     "data": {
      "text/plain": [
       "\"\\nimport os\\n\\nfor filename in os.listdir('sensorlogger'):\\n    f = os.path.join('sensorlogger', filename)\\n    \\n    if os.path.isfile(f):\\n   \""
      ]
     },
     "execution_count": 2,
     "metadata": {},
     "output_type": "execute_result"
    }
   ],
   "source": [
    "\n",
    "\"\"\"\n",
    "import os\n",
    "\n",
    "for filename in os.listdir('sensorlogger'):\n",
    "    f = os.path.join('sensorlogger', filename)\n",
    "    \n",
    "    if os.path.isfile(f):\n",
    "   \"\"\"     \n",
    "\n"
   ]
  },
  {
   "cell_type": "code",
   "execution_count": 15,
   "id": "12fc38c6",
   "metadata": {},
   "outputs": [
    {
     "data": {
      "image/png": "[encoded data removed]",
      "text/plain": [
       "<Figure size 648x216 with 1 Axes>"
      ]
     },
     "metadata": {
      "needs_background": "light"
     },
     "output_type": "display_data"
    }
   ],
   "source": [
    "import numpy as np\n",
    "import matplotlib.pyplot as plt\n",
    "\n",
    "with open('sensorlogger/sensorLog_20240715T191803.txt') as file:        \n",
    "    lines = [line.split() for line in file]\n",
    "\n",
    "acc = [ np.sqrt(float(line[2])**2 + float(line[3])**2 + float(line[4])**2) for line in lines ]\n",
    "t = [(float(line[0])-float(lines[0][0]))/1000 for line in lines]\n",
    "\n",
    "plt.figure(figsize= (9,3))\n",
    "plt.plot(t, acc)\n",
    "plt.show()\n"
   ]
  },
  {
   "cell_type": "code",
   "execution_count": 18,
   "id": "9cf99687",
   "metadata": {},
   "outputs": [
    {
     "name": "stdout",
     "output_type": "stream",
     "text": [
      "176.51\n"
     ]
    }
   ],
   "source": [
    "\"\"\"Windowing\"\"\"\n",
    "\n",
    "rec_length = len(acc)/100\n",
    "print(rec_length)"
   ]
  },
  {
   "cell_type": "code",
   "execution_count": null,
   "id": "acb9b4f0",
   "metadata": {},
   "outputs": [],
   "source": [
    "\n",
    "\n",
    "\"\"\"Initialization\"\"\"\n",
    "\n",
    "\"\"\"Infinite ergodic HMM may start in any state. Assumption here is that\n",
    "    each state is equally likely to occur as initial state\"\"\"\n",
    "\n",
    "mc = MarkovChain( np.full((1,3)1/3) , np.array( [ [ 0.9, 0, 0 ], [ 0, 0.9, 0.1 ], [0, 0 ,0] ] ) )\n",
    "\n",
    "\"\"\"The diagonal elements of the transition matrix can be chosen to indicate \n",
    "    approximately the average state durations. Average recording duration ~34s, each state duration is ? long\"\"\"\n",
    "\n",
    "b1 = GaussD( means=[0], stdevs=[1] )   # Distribution for state = standing\n",
    "b2 = GaussD( means=[3], stdevs=[2] )   # Distribution for state = walking\n",
    "b3 = GaussD( means=[3], stdevs=[2] )   # Distribution for state = running\n",
    "\n",
    "\n",
    "\n",
    "\"\"\"Initial HMM\"\"\"\n",
    "\n",
    "h0  = HMM( mc, [g1, g2])"
   ]
  }
 ],
 "metadata": {
  "kernelspec": {
   "display_name": "Python 3 (ipykernel)",
   "language": "python",
   "name": "python3"
  },
  "language_info": {
   "codemirror_mode": {
    "name": "ipython",
    "version": 3
   },
   "file_extension": ".py",
   "mimetype": "text/x-python",
   "name": "python",
   "nbconvert_exporter": "python",
   "pygments_lexer": "ipython3",
   "version": "3.10.9"
  }
 },
 "nbformat": 4,
 "nbformat_minor": 5
}
